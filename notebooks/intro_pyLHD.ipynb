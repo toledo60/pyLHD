{
 "cells": [
  {
   "cell_type": "markdown",
   "metadata": {},
   "source": [
    "## 1. Introduction to pyLHD\n",
    "\n",
    "pyLHD is a python implementation of the R package [LHD](https://cran.r-project.org/web/packages/LHD/index.html) by Hongzhi Wang, Qian Xiao, Abhyuday Mandal. As of now, only the algebraic construction of Latin hypercube designs (LHD) are implemented in this package. For search algorithms to construct LHDs such as: Simulated annealing, particle swarm optimization, and genetic algorithms refer to the R package.\n",
    "\n",
    "In section 2 algebraic construction methods for LHDs are discussed"
   ]
  },
  {
   "cell_type": "markdown",
   "metadata": {},
   "source": [
    "To evalute the generated LHDs we consider the following criteria\n",
    "\n",
    "### Maximin distance Criterion\n",
    "\n",
    "Let $X$ denote an LHD matrix. Define the $L_q$-distance between two run $x_i$ and $x_j$ of $X$ as $d_q(x_i,x_j) = \\left( \\sum_{k=1}^m |x_{ik}-x_{jk}|^q \\right)^{1/q}$ where $q$ is an integer. Define the $L_q$-distance of design $X$ as $d_q(X) = \\min \\{ d_q(x_i,x_j), 1 \\leq i\\leq j \\leq n \\}$. If $q=1$, we are considering the Manhattan $(L_1)$ distance. If $q=2$, the Euclidean $(L_2)$ distance is considered. A design $X$ is called a maximim $L_q$-distance if it has the unique largest $d_q(X)$ value.\n",
    "\n",
    "Morris and Mitch (1995) and Jin et al. (2005) proposed the $\\phi_p$ criterion which is defined as\n",
    "$$\n",
    "\\phi_p = \\left( \\sum_{i=1}^{n-1} \\sum_{j=i+1}^n d_q (x_i,x_j)^{-p}  \\right)^{1/p} \n",
    "$$\n",
    "\n",
    "The $\\phi_p$ criterion is asymptotically equivalent to the Maximin distance criterion as $p \\rightarrow \\infty$. In practice $p=15$ often suffices.\n",
    "\n",
    "### Maximum Projection Criterion\n",
    "\n",
    "Joseph et al (2015) proposed the maximum projection LHDs that consider designs' space-filling properties in all possible dimensional spaces. Such designs minimize the maximum projection criterion, which is defined as \n",
    "\n",
    "$$\n",
    "\\underset{X}{\\min} \\psi(X) = \\left( \\frac{1}{{n \\choose 2}} \\sum_{i=1}^{n-1} \\sum_{j=i+1}^n \\frac{1}{ \\prod_{l=1}^k (x_{il}-x_{jl})^2} \\right)^{1/k}\n",
    "$$\n",
    "\n",
    "\n",
    "We can wee that any two design points should be apart from each other in any projection to minimize the value of $\\psi(x)$\n",
    "\n",
    "### Orthogonality Criteria\n",
    "\n",
    "Two major correlation-based criteria to measure designs' orthogonality is the average absolute correlation criterion and the maximum absolute correlation\n",
    "\n",
    "$$\n",
    "ave(|q|) = \\frac{2 \\sum_{i=1}^{k-1} \\sum_{j=i+1}^k |q_{ij}|}{k(k-1)} \\quad \\text{and} \\quad \\max |q| = \\underset{i,j}{\\max} |q_{ij}|\n",
    "$$\n",
    "\n",
    "where $q_{ij}$ is the correlation between the $i$th and $j$th columns of the design matrix $X$. Orthogonal design have $ave(|q|)=0$ and $\\max|q|=0$, which may not exist for all design sizes. Designs with smaller $ave(|q|)$ or  $\\max|q|$ are generally preferred in practice.\n",
    "\n"
   ]
  },
  {
   "cell_type": "code",
   "execution_count": 1,
   "metadata": {},
   "outputs": [],
   "source": [
    "import pyLHD"
   ]
  },
  {
   "cell_type": "markdown",
   "metadata": {},
   "source": [
    "Lets start by generating a random LHD with 5 rows and 3 columns"
   ]
  },
  {
   "cell_type": "code",
   "execution_count": 2,
   "metadata": {},
   "outputs": [
    {
     "data": {
      "text/plain": [
       "array([[0.05654186, 0.05654186, 0.45654186],\n",
       "       [0.65654186, 0.65654186, 0.05654186],\n",
       "       [0.45654186, 0.85654186, 0.85654186],\n",
       "       [0.25654186, 0.25654186, 0.65654186],\n",
       "       [0.85654186, 0.45654186, 0.25654186]])"
      ]
     },
     "execution_count": 2,
     "metadata": {},
     "output_type": "execute_result"
    }
   ],
   "source": [
    "X = pyLHD.LatinHypercube(size = (5,3))\n",
    "X"
   ]
  },
  {
   "cell_type": "markdown",
   "metadata": {},
   "source": [
    "We evaluate the above design with the different optimamlity criteria described earlier:\n",
    "\n",
    "The maximin distance criterion (Manhattan)"
   ]
  },
  {
   "cell_type": "code",
   "execution_count": 3,
   "metadata": {},
   "outputs": [
    {
     "data": {
      "text/plain": [
       "1.745521683720739"
      ]
     },
     "execution_count": 3,
     "metadata": {},
     "output_type": "execute_result"
    }
   ],
   "source": [
    "pyLHD.phi_p(X,p=15,q=1) # using default parameters"
   ]
  },
  {
   "cell_type": "markdown",
   "metadata": {},
   "source": [
    "The maximin distance criterion (Euclidean)"
   ]
  },
  {
   "cell_type": "code",
   "execution_count": 4,
   "metadata": {},
   "outputs": [
    {
     "data": {
      "text/plain": [
       "3.0943406291720397"
      ]
     },
     "execution_count": 4,
     "metadata": {},
     "output_type": "execute_result"
    }
   ],
   "source": [
    "pyLHD.phi_p(X,p=10,q=2) # different p used than above"
   ]
  },
  {
   "cell_type": "markdown",
   "metadata": {},
   "source": [
    "The average absolute correlation"
   ]
  },
  {
   "cell_type": "code",
   "execution_count": 5,
   "metadata": {},
   "outputs": [
    {
     "data": {
      "text/plain": [
       "0.4000000000000001"
      ]
     },
     "execution_count": 5,
     "metadata": {},
     "output_type": "execute_result"
    }
   ],
   "source": [
    "pyLHD.AvgAbsCor(X)"
   ]
  },
  {
   "cell_type": "markdown",
   "metadata": {},
   "source": [
    "The maximum absolute correlation"
   ]
  },
  {
   "cell_type": "code",
   "execution_count": 6,
   "metadata": {},
   "outputs": [
    {
     "data": {
      "text/plain": [
       "0.6"
      ]
     },
     "execution_count": 6,
     "metadata": {},
     "output_type": "execute_result"
    }
   ],
   "source": [
    "pyLHD.MaxAbsCor(X)"
   ]
  },
  {
   "cell_type": "markdown",
   "metadata": {},
   "source": [
    "The maximum projection criterion"
   ]
  },
  {
   "cell_type": "code",
   "execution_count": 7,
   "metadata": {},
   "outputs": [
    {
     "data": {
      "text/plain": [
       "15.178188413489403"
      ]
     },
     "execution_count": 7,
     "metadata": {},
     "output_type": "execute_result"
    }
   ],
   "source": [
    "pyLHD.MaxProCriterion(X)"
   ]
  },
  {
   "cell_type": "markdown",
   "metadata": {},
   "source": [
    "We can apply Williams transformation on X defined as:\n",
    "$$\n",
    "W(x) = \\begin{cases} \n",
    "      2x & 0 \\leq x \\leq (p-1)/2 \\\\\n",
    "      2(p-x)-1 & (p+1)/2 \\leq x \\leq p-1   \n",
    "      \\end{cases}\n",
    "$$"
   ]
  },
  {
   "cell_type": "code",
   "execution_count": 8,
   "metadata": {},
   "outputs": [
    {
     "data": {
      "text/plain": [
       "array([[1. , 1. , 1.8],\n",
       "       [2.2, 2.2, 1. ],\n",
       "       [1.8, 2.6, 2.6],\n",
       "       [1.4, 1.4, 2.2],\n",
       "       [2.6, 1.8, 1.4]])"
      ]
     },
     "execution_count": 8,
     "metadata": {},
     "output_type": "execute_result"
    }
   ],
   "source": [
    "W_x = pyLHD.williams_transform(X)\n",
    "W_x"
   ]
  },
  {
   "cell_type": "markdown",
   "metadata": {},
   "source": [
    "Lets evaluate the new transformed design"
   ]
  },
  {
   "cell_type": "code",
   "execution_count": 9,
   "metadata": {},
   "outputs": [
    {
     "data": {
      "text/plain": [
       "0.8727608418603694"
      ]
     },
     "execution_count": 9,
     "metadata": {},
     "output_type": "execute_result"
    }
   ],
   "source": [
    "pyLHD.phi_p(W_x)"
   ]
  },
  {
   "cell_type": "markdown",
   "metadata": {},
   "source": [
    "The $\\phi_p$ value of transformed $W_x$ is smaller than the original design $X$"
   ]
  },
  {
   "cell_type": "markdown",
   "metadata": {},
   "source": [
    "## 2. Algebraic Construction Functions\n",
    "\n",
    "The algebraic construction methods are demonstrated in the table below"
   ]
  },
  {
   "cell_type": "markdown",
   "metadata": {},
   "source": [
    "|            | Ye98 | Cioppa07 | Sun10 | Tang93 | Lin09 | Butler01  |\n",
    "|------------|---|---|---|---|---|----|\n",
    "| Run # $n$    | $2^m +1$ | $2^m +1$ | $r2^{m +1}$ or $r2^{m +1} +1$  | $n$ | $n^2$ | $n$ |\n",
    "| Factor # $k$ | $2m-2$ | $m + {m-1 \\choose 2}$ | $2^c$ | $m$ | $2fp$ | $k \\leq n-1$  |\n",
    "| Note       | $m$ is a positive integer $m\\geq 2$ | $m$ is a positive integer $m\\geq 2$ | $r$ and $c$ are positive integers | $n$ and $m$ are from $OA(n,m,s,r)$ | $n^2,2f$ and $p$ are from $OA(n^2,2f,n,2)$ and $OLHD(n,p)$ | $n$ is an odd prime number  |"
   ]
  },
  {
   "cell_type": "markdown",
   "metadata": {},
   "source": [
    "For theoretical details on the construction methods, a good overview is **Section 4.2: Algebraic Constuctions for Orthogonal LHDs** from [Musings about Constructions of Efficient Latin Hypercube Designs with Flexible Run-sizes](https://arxiv.org/abs/2010.09154)\n",
    "\n",
    "We start by implementing Ye 1998 construction, the resulting desig will have \n",
    "$2^m+1$ runs and $2m-2$ factors"
   ]
  },
  {
   "cell_type": "code",
   "execution_count": 10,
   "metadata": {},
   "outputs": [
    {
     "data": {
      "text/plain": [
       "array([[ 5., -1., -6., -7.,  2.,  8.],\n",
       "       [ 1.,  5., -4., -2., -7., -3.],\n",
       "       [ 4., -6.,  1., -3., -8.,  2.],\n",
       "       [ 6.,  4.,  5., -8.,  3., -7.],\n",
       "       [ 8., -3., -7.,  6.,  4., -5.],\n",
       "       [ 3.,  8., -2.,  4., -6.,  1.],\n",
       "       [ 2., -7.,  3.,  1., -5., -4.],\n",
       "       [ 7.,  2.,  8.,  5.,  1.,  6.],\n",
       "       [ 0.,  0.,  0.,  0.,  0.,  0.],\n",
       "       [-5.,  1.,  6.,  7., -2., -8.],\n",
       "       [-1., -5.,  4.,  2.,  7.,  3.],\n",
       "       [-4.,  6., -1.,  3.,  8., -2.],\n",
       "       [-6., -4., -5.,  8., -3.,  7.],\n",
       "       [-8.,  3.,  7., -6., -4.,  5.],\n",
       "       [-3., -8.,  2., -4.,  6., -1.],\n",
       "       [-2.,  7., -3., -1.,  5.,  4.],\n",
       "       [-7., -2., -8., -5., -1., -6.]])"
      ]
     },
     "execution_count": 10,
     "metadata": {},
     "output_type": "execute_result"
    }
   ],
   "source": [
    "Ye98 = pyLHD.OLHD_Ye98(m=4)\n",
    "Ye98"
   ]
  },
  {
   "cell_type": "code",
   "execution_count": 11,
   "metadata": {},
   "outputs": [
    {
     "data": {
      "text/plain": [
       "0.0"
      ]
     },
     "execution_count": 11,
     "metadata": {},
     "output_type": "execute_result"
    }
   ],
   "source": [
    "pyLHD.MaxAbsCor(Ye98) # column-wise correlation are 0"
   ]
  },
  {
   "cell_type": "markdown",
   "metadata": {},
   "source": [
    "Cioppa and Lucas 2007 construction, the resulting design will be a $2^m+1$ by $m+ {m-1 \\choose 2}$ orthogonal LHD. Note $m \\geq 2$"
   ]
  },
  {
   "cell_type": "code",
   "execution_count": 12,
   "metadata": {},
   "outputs": [
    {
     "data": {
      "text/plain": [
       "array([[ 1., -2., -4.,  3.],\n",
       "       [ 2.,  1., -3., -4.],\n",
       "       [ 3., -4.,  2., -1.],\n",
       "       [ 4.,  3.,  1.,  2.],\n",
       "       [ 0.,  0.,  0.,  0.],\n",
       "       [-1.,  2.,  4., -3.],\n",
       "       [-2., -1.,  3.,  4.],\n",
       "       [-3.,  4., -2.,  1.],\n",
       "       [-4., -3., -1., -2.]])"
      ]
     },
     "execution_count": 12,
     "metadata": {},
     "output_type": "execute_result"
    }
   ],
   "source": [
    "Cioppa07 = pyLHD.OLHD_Cioppa07(m=3)\n",
    "Cioppa07"
   ]
  },
  {
   "cell_type": "code",
   "execution_count": 13,
   "metadata": {},
   "outputs": [
    {
     "data": {
      "text/plain": [
       "0.0"
      ]
     },
     "execution_count": 13,
     "metadata": {},
     "output_type": "execute_result"
    }
   ],
   "source": [
    "pyLHD.MaxAbsCor(Cioppa07) # column-wise correlation are 0"
   ]
  },
  {
   "cell_type": "markdown",
   "metadata": {},
   "source": [
    "Sun et al. 2010 construction, the resulting design will be $r2^{c+1}$ by $2^c$ if type='even'. If type='odd'\n",
    "the resulting design will be $r2^{c+1} + 1$ by $2^c$, where $r$ and $c$ are positive integers."
   ]
  },
  {
   "cell_type": "code",
   "execution_count": 14,
   "metadata": {},
   "outputs": [
    {
     "data": {
      "text/plain": [
       "array([[ 1.,  2.,  3.,  4.],\n",
       "       [ 2., -1., -4.,  3.],\n",
       "       [ 3.,  4., -1., -2.],\n",
       "       [ 4., -3.,  2., -1.],\n",
       "       [ 5.,  6.,  7.,  8.],\n",
       "       [ 6., -5., -8.,  7.],\n",
       "       [ 7.,  8., -5., -6.],\n",
       "       [ 8., -7.,  6., -5.],\n",
       "       [ 0.,  0.,  0.,  0.],\n",
       "       [-1., -2., -3., -4.],\n",
       "       [-2.,  1.,  4., -3.],\n",
       "       [-3., -4.,  1.,  2.],\n",
       "       [-4.,  3., -2.,  1.],\n",
       "       [-5., -6., -7., -8.],\n",
       "       [-6.,  5.,  8., -7.],\n",
       "       [-7., -8.,  5.,  6.],\n",
       "       [-8.,  7., -6.,  5.]])"
      ]
     },
     "execution_count": 14,
     "metadata": {},
     "output_type": "execute_result"
    }
   ],
   "source": [
    "Sun10_odd = pyLHD.OLHD_Sun10(C=2,r=2,type='odd')\n",
    "Sun10_odd"
   ]
  },
  {
   "cell_type": "code",
   "execution_count": 15,
   "metadata": {},
   "outputs": [
    {
     "data": {
      "text/plain": [
       "array([[ 0.5,  1.5,  2.5,  3.5],\n",
       "       [ 1.5, -0.5, -3.5,  2.5],\n",
       "       [ 2.5,  3.5, -0.5, -1.5],\n",
       "       [ 3.5, -2.5,  1.5, -0.5],\n",
       "       [ 4.5,  5.5,  6.5,  7.5],\n",
       "       [ 5.5, -4.5, -7.5,  6.5],\n",
       "       [ 6.5,  7.5, -4.5, -5.5],\n",
       "       [ 7.5, -6.5,  5.5, -4.5],\n",
       "       [-0.5, -1.5, -2.5, -3.5],\n",
       "       [-1.5,  0.5,  3.5, -2.5],\n",
       "       [-2.5, -3.5,  0.5,  1.5],\n",
       "       [-3.5,  2.5, -1.5,  0.5],\n",
       "       [-4.5, -5.5, -6.5, -7.5],\n",
       "       [-5.5,  4.5,  7.5, -6.5],\n",
       "       [-6.5, -7.5,  4.5,  5.5],\n",
       "       [-7.5,  6.5, -5.5,  4.5]])"
      ]
     },
     "execution_count": 15,
     "metadata": {},
     "output_type": "execute_result"
    }
   ],
   "source": [
    "Sun10_even = pyLHD.OLHD_Sun10(C=2,r=2,type='even')\n",
    "Sun10_even"
   ]
  },
  {
   "cell_type": "markdown",
   "metadata": {},
   "source": [
    "Line et al. 2009 construction, the resulting design will be $n^2$ by $2fp$. This is obtained by using a\n",
    "$n$ by $p$ orthogonal LHD with a $n^2$ by $2f$ strength 2 and level $n$ orthogonal array.\n",
    "\n",
    "Start by generating an orthogonal LHD"
   ]
  },
  {
   "cell_type": "code",
   "execution_count": 16,
   "metadata": {},
   "outputs": [],
   "source": [
    "OLHD_example = pyLHD.OLHD_Cioppa07(m=2)"
   ]
  },
  {
   "cell_type": "markdown",
   "metadata": {},
   "source": [
    "Next, create an orthogonal array with 25 rows, 6 columns, 5 levels, and strength 2 OA(25,6,5,2)"
   ]
  },
  {
   "cell_type": "code",
   "execution_count": 17,
   "metadata": {},
   "outputs": [],
   "source": [
    "import numpy as np\n",
    "\n",
    "OA_example = np.array([[2,2,2,2,2,1],[2,1,5,4,3,5],\n",
    "                      [3,2,1,5,4,5],[1,5,4,3,2,5],\n",
    "                      [4,1,3,5,2,3],[1,2,3,4,5,2],\n",
    "                      [1,3,5,2,4,3],[1,1,1,1,1,1],\n",
    "                      [4,3,2,1,5,5],[5,5,5,5,5,1],\n",
    "                      [4,4,4,4,4,1],[3,1,4,2,5,4],\n",
    "                      [3,3,3,3,3,1],[3,5,2,4,1,3],\n",
    "                      [3,4,5,1,2,2],[5,4,3,2,1,5],\n",
    "                      [2,3,4,5,1,2],[2,5,3,1,4,4],\n",
    "                      [1,4,2,5,3,4],[4,2,5,3,1,4],\n",
    "                      [2,4,1,3,5,3],[5,3,1,4,2,4],\n",
    "                      [5,2,4,1,3,3],[5,1,2,3,4,2],\n",
    "                      [4,5,1,2,3,2] ])"
   ]
  },
  {
   "cell_type": "markdown",
   "metadata": {},
   "source": [
    "Now using Lin at al. 2009 construction, we couple OLHD and OA to obtain"
   ]
  },
  {
   "cell_type": "code",
   "execution_count": 18,
   "metadata": {},
   "outputs": [
    {
     "data": {
      "text/plain": [
       "array([[ 12.,  -8.,  12.,  -8.,   7.,  -9.,   6.,  -4.,   6.,  -4.,  -9.,\n",
       "         -7.],\n",
       "       [  7.,  -9.,  -7.,   9., -10.,  -2.,  -9.,  -7.,   9.,   7.,  -5.,\n",
       "         -1.],\n",
       "       [ 10.,   2.,  -9.,  -7., -11.,   3.,   5.,   1.,  -7.,   9.,  -3.,\n",
       "        -11.],\n",
       "       [ -9.,  -7.,  -1.,   5.,  -8., -12.,  -7.,   9.,   2., -10.,  -4.,\n",
       "         -6.],\n",
       "       [  4.,   6., -10.,  -2.,   2., -10.,  -8., -12.,  -5.,  -1.,   1.,\n",
       "         -5.],\n",
       "       [ 11.,  -3.,  -5.,  -1.,   8.,  12.,   3.,  11.,  10.,   2.,   4.,\n",
       "          6.],\n",
       "       [  1.,  -5.,   8.,  12.,  -1.,   5.,  -2.,  10.,   4.,   6.,   2.,\n",
       "        -10.],\n",
       "       [  6.,  -4.,   6.,  -4.,   6.,  -4., -12.,   8., -12.,   8., -12.,\n",
       "          8.],\n",
       "       [ -1.,   5.,   7.,  -9., -12.,   8.,   2., -10.,  -9.,  -7.,  -6.,\n",
       "          4.],\n",
       "       [-12.,   8., -12.,   8.,   3.,  11.,  -6.,   4.,  -6.,   4., -11.,\n",
       "          3.],\n",
       "       [ -6.,   4.,  -6.,   4.,   4.,   6.,  12.,  -8.,  12.,  -8.,  -8.,\n",
       "        -12.],\n",
       "       [  5.,   1.,   9.,   7.,  -7.,   9., -10.,  -2.,   7.,  -9.,   9.,\n",
       "          7.],\n",
       "       [  0.,   0.,   0.,   0.,   5.,   1.,   0.,   0.,   0.,   0., -10.,\n",
       "         -2.],\n",
       "       [-10.,  -2.,  -3., -11.,   1.,  -5.,  -5.,  -1.,  11.,  -3.,  -2.,\n",
       "         10.],\n",
       "       [ -5.,  -1.,   3.,  11.,  12.,  -8.,  10.,   2., -11.,   3.,   6.,\n",
       "         -4.],\n",
       "       [ -7.,   9.,  10.,   2.,  -9.,  -7.,   9.,   7.,   5.,   1.,  -7.,\n",
       "          9.],\n",
       "       [  2., -10., -11.,   3.,  11.,  -3.,   1.,  -5.,  -3., -11.,   3.,\n",
       "         11.],\n",
       "       [ -8., -12.,   5.,   1.,  -6.,   4.,  -4.,  -6., -10.,  -2.,  12.,\n",
       "         -8.],\n",
       "       [ -4.,  -6.,  -8., -12.,  -5.,  -1.,   8.,  12.,  -4.,  -6.,  10.,\n",
       "          2.],\n",
       "       [  9.,   7.,  -2.,  10.,  -4.,  -6.,   7.,  -9.,  -1.,   5.,   8.,\n",
       "         12.],\n",
       "       [ -3., -11.,   1.,  -5.,  -2.,  10.,  11.,  -3.,  -2.,  10.,  -1.,\n",
       "          5.],\n",
       "       [ -2.,  10.,  -4.,  -6.,  -3., -11.,  -1.,   5.,   8.,  12.,  11.,\n",
       "         -3.],\n",
       "       [  8.,  12.,   4.,   6.,   0.,   0.,   4.,   6.,  -8., -12.,   0.,\n",
       "          0.],\n",
       "       [  3.,  11.,   2., -10.,   9.,   7., -11.,   3.,   1.,  -5.,   7.,\n",
       "         -9.],\n",
       "       [-11.,   3.,  11.,  -3.,  10.,   2.,  -3., -11.,   3.,  11.,   5.,\n",
       "          1.]])"
      ]
     },
     "execution_count": 18,
     "metadata": {},
     "output_type": "execute_result"
    }
   ],
   "source": [
    "Lin09 = pyLHD.OLHD_Lin09(OLHD=OLHD_example,OA=OA_example)\n",
    "Lin09"
   ]
  },
  {
   "cell_type": "markdown",
   "metadata": {},
   "source": [
    "We can convert an orthogonal array into a LHD using the function OA2LHD. Consider the \n",
    "earlier OA_example with 25 rows and 6 columns."
   ]
  },
  {
   "cell_type": "code",
   "execution_count": 19,
   "metadata": {},
   "outputs": [
    {
     "data": {
      "text/plain": [
       "array([[ 6,  6,  7,  7,  6,  3],\n",
       "       [ 9,  2, 23, 16, 11, 23],\n",
       "       [11,  8,  1, 22, 16, 24],\n",
       "       [ 3, 21, 20, 13, 10, 21],\n",
       "       [17,  3, 15, 23,  7, 13],\n",
       "       [ 1,  7, 13, 19, 25,  7],\n",
       "       [ 4, 13, 24,  8, 20, 15],\n",
       "       [ 2,  1,  2,  1,  5,  2],\n",
       "       [20, 15,  6,  5, 21, 22],\n",
       "       [23, 23, 25, 21, 22,  1],\n",
       "       [19, 18, 16, 17, 17,  4],\n",
       "       [12,  4, 17,  6, 24, 20],\n",
       "       [14, 14, 12, 15, 12,  5],\n",
       "       [15, 22,  9, 18,  2, 12],\n",
       "       [13, 19, 22,  3,  9,  9],\n",
       "       [25, 17, 14,  9,  4, 25],\n",
       "       [ 7, 11, 19, 24,  1,  6],\n",
       "       [10, 25, 11,  2, 19, 19],\n",
       "       [ 5, 16,  8, 25, 15, 17],\n",
       "       [16, 10, 21, 12,  3, 16],\n",
       "       [ 8, 20,  4, 11, 23, 11],\n",
       "       [24, 12,  3, 20,  8, 18],\n",
       "       [22,  9, 18,  4, 13, 14],\n",
       "       [21,  5, 10, 14, 18, 10],\n",
       "       [18, 24,  5, 10, 14,  8]])"
      ]
     },
     "execution_count": 19,
     "metadata": {},
     "output_type": "execute_result"
    }
   ],
   "source": [
    "pyLHD.OA2LHD(OA_example)"
   ]
  },
  {
   "cell_type": "markdown",
   "metadata": {},
   "source": [
    "Lastly, we consider Butler 2001 construction by generating a $n$ by $k$ OLHD"
   ]
  },
  {
   "cell_type": "code",
   "execution_count": 20,
   "metadata": {},
   "outputs": [
    {
     "data": {
      "text/plain": [
       "array([[ 2.,  3.,  4.,  1.,  5.],\n",
       "       [ 3., 11.,  2.,  7.,  8.],\n",
       "       [ 7.,  4.,  1., 10.,  3.],\n",
       "       [11.,  5.,  3.,  4., 10.],\n",
       "       [ 8., 10.,  5.,  3.,  1.],\n",
       "       [ 4.,  2.,  7.,  9., 11.],\n",
       "       [ 1.,  7.,  9.,  8.,  2.],\n",
       "       [ 5.,  8., 11.,  2.,  9.],\n",
       "       [ 9.,  1., 10.,  5.,  4.],\n",
       "       [10.,  9.,  8., 11.,  7.],\n",
       "       [ 6.,  6.,  6.,  6.,  6.]])"
      ]
     },
     "execution_count": 20,
     "metadata": {},
     "output_type": "execute_result"
    }
   ],
   "source": [
    "Butler01 = pyLHD.OLHD_Butler01(size = (11,5))\n",
    "Butler01"
   ]
  }
 ],
 "metadata": {
  "kernelspec": {
   "display_name": "Python 3.11.4 64-bit",
   "language": "python",
   "name": "python3"
  },
  "language_info": {
   "codemirror_mode": {
    "name": "ipython",
    "version": 3
   },
   "file_extension": ".py",
   "mimetype": "text/x-python",
   "name": "python",
   "nbconvert_exporter": "python",
   "pygments_lexer": "ipython3",
   "version": "3.11.4"
  },
  "orig_nbformat": 4,
  "vscode": {
   "interpreter": {
    "hash": "aee8b7b246df8f9039afb4144a1f6fd8d2ca17a180786b69acc140d282b71a49"
   }
  }
 },
 "nbformat": 4,
 "nbformat_minor": 2
}
