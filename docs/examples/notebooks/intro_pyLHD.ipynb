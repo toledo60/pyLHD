{
 "cells": [
  {
   "cell_type": "markdown",
   "source": [
    "## 1. Introduction to pyLHD\r\n",
    "\r\n",
    "pyLHD is a python implementation of the R package [LHD](https://cran.r-project.org/web/packages/LHD/index.html) by Hongzhi Wang, Qian Xiao, Abhyuday Mandal. As of now, only the algebraic construction of Latin hypercube designs (LHD) are implemented in this package. For search algorithms to construct LHDs such as: Simulated annealing, particle swarm optimization, and genetic algorithms refer to the R package.\r\n",
    "\r\n",
    "In section 2 algebraic construction methods for LHDs are discussed"
   ],
   "metadata": {}
  },
  {
   "cell_type": "markdown",
   "source": [
    "To evalute the generated LHDs we consider the following criteria\r\n",
    "\r\n",
    "### Maximin distance Criterion\r\n",
    "\r\n",
    "Let $X$ denote an LHD matrix. Define the $L_q$-distance between two run $x_i$ and $x_j$ of $X$ as $d_q(x_i,x_j) = \\left( \\sum_{k=1}^m |x_{ik}-x_{jk}|^q \\right)^{1/q}$ where $q$ is an integer. Define the $L_q$-distance of design $X$ as $d_q(X) = \\min \\{ d_q(x_i,x_j), 1 \\leq i\\leq j \\leq n \\}$. If $q=1$, we are considering the Manhattan $(L_1)$ distance. If $q=2$, the Euclidean $(L_2)$ distance is considered. A design $X$ is called a maximim $L_q$-distance if it has the unique largest $d_q(X)$ value.\r\n",
    "\r\n",
    "Morris and Mitch (1995) and Jin et al. (2005) proposed the $\\phi_p$ criterion which is defined as\r\n",
    "$$\r\n",
    "\\phi_p = \\left( \\sum_{i=1}^{n-1} \\sum_{j=i+1}^n d_q (x_i,x_j)^{-p}  \\right)^{1/p} \r\n",
    "$$\r\n",
    "\r\n",
    "The $\\phi_p$ criterion is asymptotically equivalent to the Maximin distance criterion as $p \\rightarrow \\infty$. In practice $p=15$ often suffices.\r\n",
    "\r\n",
    "### Maximum Projection Criterion\r\n",
    "\r\n",
    "Joseph et al (2015) proposed the maximum projection LHDs that consider designs' space-filling properties in all possible dimensional spaces. Such designs minimize the maximum projection criterion, which is defined as \r\n",
    "\r\n",
    "$$\r\n",
    "\\underset{X}{\\min} \\psi(X) = \\left( \\frac{1}{{n \\choose 2}} \\sum_{i=1}^{n-1} \\sum_{j=i+1}^n \\frac{1}{ \\prod_{l=1}^k (x_{il}-x_{jl})^2} \\right)^{1/k}\r\n",
    "$$\r\n",
    "\r\n",
    "\r\n",
    "We can wee that any two design points should be apart from each other in any projection to minimize the value of $\\psi(x)$\r\n",
    "\r\n",
    "### Orthogonality Criteria\r\n",
    "\r\n",
    "Two major correlation-based criteria to measure designs' orthogonality is the average absolute correlation criterion and the maximum absolute correlation\r\n",
    "\r\n",
    "$$\r\n",
    "ave(|q|) = \\frac{2 \\sum_{i=1}^{k-1} \\sum_{j=i+1}^k |q_{ij}|}{k(k-1)} \\quad \\text{and} \\quad \\max |q| = \\underset{i,j}{\\max} |q_{ij}|\r\n",
    "$$\r\n",
    "\r\n",
    "where $q_{ij}$ is the correlation between the $i$th and $j$th columns of the design matrix $X$. Orthogonal design have $ave(|q|)=0$ and $\\max|q|=0$, which may not exist for all design sizes. Designs with smaller $ave(|q|)$ or  $\\max|q|$ are generally preferred in practice.\r\n",
    "\r\n"
   ],
   "metadata": {}
  },
  {
   "cell_type": "code",
   "execution_count": 1,
   "source": [
    "import pyLHD as pl"
   ],
   "outputs": [],
   "metadata": {}
  },
  {
   "cell_type": "markdown",
   "source": [
    "Lets start by generating a random LHD with 5 rows and 3 columns"
   ],
   "metadata": {}
  },
  {
   "cell_type": "code",
   "execution_count": 2,
   "source": [
    "X = pl.rLHD(nrows=5,ncols=3)\r\n",
    "X"
   ],
   "outputs": [
    {
     "output_type": "execute_result",
     "data": {
      "text/plain": [
       "array([[1, 1, 3],\n",
       "       [5, 4, 1],\n",
       "       [2, 2, 5],\n",
       "       [4, 3, 4],\n",
       "       [3, 5, 2]])"
      ]
     },
     "metadata": {},
     "execution_count": 2
    }
   ],
   "metadata": {}
  },
  {
   "cell_type": "markdown",
   "source": [
    "We evaluate the above design with the different optimamlity criteria described earlier:\r\n",
    "\r\n",
    "The maximin distance criterion (Manhattan)"
   ],
   "metadata": {}
  },
  {
   "cell_type": "code",
   "execution_count": 3,
   "source": [
    "pl.phi_p(X,p=15,q=1) # using default parameters"
   ],
   "outputs": [
    {
     "output_type": "execute_result",
     "data": {
      "text/plain": [
       "0.269429573978762"
      ]
     },
     "metadata": {},
     "execution_count": 3
    }
   ],
   "metadata": {}
  },
  {
   "cell_type": "markdown",
   "source": [
    "The maximin distance criterion (Euclidean)"
   ],
   "metadata": {}
  },
  {
   "cell_type": "code",
   "execution_count": 4,
   "source": [
    "pl.phi_p(X,p=10,q=2) # different p used than above"
   ],
   "outputs": [
    {
     "output_type": "execute_result",
     "data": {
      "text/plain": [
       "0.4586089300271958"
      ]
     },
     "metadata": {},
     "execution_count": 4
    }
   ],
   "metadata": {}
  },
  {
   "cell_type": "markdown",
   "source": [
    "The average absolute correlation"
   ],
   "metadata": {}
  },
  {
   "cell_type": "code",
   "execution_count": 5,
   "source": [
    "pl.AvgAbsCor(X)"
   ],
   "outputs": [
    {
     "output_type": "execute_result",
     "data": {
      "text/plain": [
       "0.6"
      ]
     },
     "metadata": {},
     "execution_count": 5
    }
   ],
   "metadata": {}
  },
  {
   "cell_type": "markdown",
   "source": [
    "The maximum absolute correlation"
   ],
   "metadata": {}
  },
  {
   "cell_type": "code",
   "execution_count": 6,
   "source": [
    "pl.MaxAbsCor(X)"
   ],
   "outputs": [
    {
     "output_type": "execute_result",
     "data": {
      "text/plain": [
       "0.7"
      ]
     },
     "metadata": {},
     "execution_count": 6
    }
   ],
   "metadata": {}
  },
  {
   "cell_type": "markdown",
   "source": [
    "The maximum projection criterion"
   ],
   "metadata": {}
  },
  {
   "cell_type": "code",
   "execution_count": 7,
   "source": [
    "pl.MaxProCriterion(X)"
   ],
   "outputs": [
    {
     "output_type": "execute_result",
     "data": {
      "text/plain": [
       "0.461487276581683"
      ]
     },
     "metadata": {},
     "execution_count": 7
    }
   ],
   "metadata": {}
  },
  {
   "cell_type": "markdown",
   "source": [
    "We can apply Williams transformation on X defined as:\r\n",
    "$$\r\n",
    "W(x) = \\begin{cases} \r\n",
    "      2x & 0 \\leq x \\leq (p-1)/2 \\\\\r\n",
    "      2(p-x)-1 & (p+1)/2 \\leq x \\leq p-1   \r\n",
    "      \\end{cases}\r\n",
    "$$"
   ],
   "metadata": {}
  },
  {
   "cell_type": "code",
   "execution_count": 8,
   "source": [
    "W_x = pl.williams_transform(X)\r\n",
    "W_x"
   ],
   "outputs": [
    {
     "output_type": "execute_result",
     "data": {
      "text/plain": [
       "array([[1, 1, 5],\n",
       "       [2, 4, 1],\n",
       "       [3, 3, 2],\n",
       "       [4, 5, 4],\n",
       "       [5, 2, 3]])"
      ]
     },
     "metadata": {},
     "execution_count": 8
    }
   ],
   "metadata": {}
  },
  {
   "cell_type": "markdown",
   "source": [
    "Lets evaluate the new transformed design"
   ],
   "metadata": {}
  },
  {
   "cell_type": "code",
   "execution_count": 9,
   "source": [
    "pl.phi_p(W_x)"
   ],
   "outputs": [
    {
     "output_type": "execute_result",
     "data": {
      "text/plain": [
       "0.3336499797729222"
      ]
     },
     "metadata": {},
     "execution_count": 9
    }
   ],
   "metadata": {}
  },
  {
   "cell_type": "markdown",
   "source": [
    "The $\\phi_p$ value of transformed $W_x$ is smaller than the original design $X$"
   ],
   "metadata": {}
  },
  {
   "cell_type": "markdown",
   "source": [
    "## 2. Algebraic Construction Functions\r\n",
    "\r\n",
    "The algebraic construction methods are demonstrated in the table below"
   ],
   "metadata": {}
  },
  {
   "cell_type": "markdown",
   "source": [
    "|            | Ye98 | Cioppa07 | Sun10 | Tang93 | Lin09 | Butler01  |\r\n",
    "|------------|---|---|---|---|---|----|\r\n",
    "| Run # $n$    | $2^m +1$ | $2^m +1$ | $r2^{m +1}$ or $r2^{m +1} +1$  | $n$ | $n^2$ | $n$ |\r\n",
    "| Factor # $k$ | $2m-2$ | $m + {m-1 \\choose 2}$ | $2^c$ | $m$ | $2fp$ | $k \\leq n-1$  |\r\n",
    "| Note       | $m$ is a positive integer $m\\geq 2$ | $m$ is a positive integer $m\\geq 2$ | $r$ and $c$ are positive integers | $n$ and $m$ are from $OA(n,m,s,r)$ | $n^2,2f$ and $p$ are from $OA(n^2,2f,n,2)$ and $OLHD(n,p)$ | $n$ is an odd prime number  |"
   ],
   "metadata": {}
  },
  {
   "cell_type": "markdown",
   "source": [
    "For theoretical details on the construction methods, a good overview is **Section 4.2: Algebraic Constuctions for Orthogonal LHDs** from [Musings about Constructions of Efficient Latin Hypercube Designs with Flexible Run-sizes](https://arxiv.org/abs/2010.09154)\r\n",
    "\r\n",
    "We start by implementing Ye 1998 construction, the resulting desig will have \r\n",
    "$2^m+1$ runs and $2m-2$ factors"
   ],
   "metadata": {}
  },
  {
   "cell_type": "code",
   "execution_count": 10,
   "source": [
    "Ye98 = pl.OLHD_Ye98(m=4)\r\n",
    "Ye98"
   ],
   "outputs": [
    {
     "output_type": "execute_result",
     "data": {
      "text/plain": [
       "array([[ 7., -1., -4., -2.,  3.,  8.],\n",
       "       [ 1.,  7., -5., -3., -2., -6.],\n",
       "       [ 5., -4.,  1., -6., -8.,  3.],\n",
       "       [ 4.,  5.,  7., -8.,  6., -2.],\n",
       "       [ 8., -6., -2.,  4.,  5., -7.],\n",
       "       [ 6.,  8., -3.,  5., -4.,  1.],\n",
       "       [ 3., -2.,  6.,  1., -7., -5.],\n",
       "       [ 2.,  3.,  8.,  7.,  1.,  4.],\n",
       "       [ 0.,  0.,  0.,  0.,  0.,  0.],\n",
       "       [-7.,  1.,  4.,  2., -3., -8.],\n",
       "       [-1., -7.,  5.,  3.,  2.,  6.],\n",
       "       [-5.,  4., -1.,  6.,  8., -3.],\n",
       "       [-4., -5., -7.,  8., -6.,  2.],\n",
       "       [-8.,  6.,  2., -4., -5.,  7.],\n",
       "       [-6., -8.,  3., -5.,  4., -1.],\n",
       "       [-3.,  2., -6., -1.,  7.,  5.],\n",
       "       [-2., -3., -8., -7., -1., -4.]])"
      ]
     },
     "metadata": {},
     "execution_count": 10
    }
   ],
   "metadata": {}
  },
  {
   "cell_type": "code",
   "execution_count": 11,
   "source": [
    "pl.MaxAbsCor(Ye98) # column-wise correlation are 0"
   ],
   "outputs": [
    {
     "output_type": "execute_result",
     "data": {
      "text/plain": [
       "0.0"
      ]
     },
     "metadata": {},
     "execution_count": 11
    }
   ],
   "metadata": {}
  },
  {
   "cell_type": "markdown",
   "source": [
    "Cioppa and Lucas 2007 construction, the resulting design will be a $2^m+1$ by $m+ {m-1 \\choose 2}$ orthogonal LHD. Note $m \\geq 2$"
   ],
   "metadata": {}
  },
  {
   "cell_type": "code",
   "execution_count": 12,
   "source": [
    "Cioppa07 = pl.OLHD_Cioppa07(m=3)\r\n",
    "Cioppa07"
   ],
   "outputs": [
    {
     "output_type": "execute_result",
     "data": {
      "text/plain": [
       "array([[ 1., -2., -4.,  3.],\n",
       "       [ 2.,  1., -3., -4.],\n",
       "       [ 3., -4.,  2., -1.],\n",
       "       [ 4.,  3.,  1.,  2.],\n",
       "       [ 0.,  0.,  0.,  0.],\n",
       "       [-1.,  2.,  4., -3.],\n",
       "       [-2., -1.,  3.,  4.],\n",
       "       [-3.,  4., -2.,  1.],\n",
       "       [-4., -3., -1., -2.]])"
      ]
     },
     "metadata": {},
     "execution_count": 12
    }
   ],
   "metadata": {}
  },
  {
   "cell_type": "code",
   "execution_count": 13,
   "source": [
    "pl.MaxAbsCor(Cioppa07) # column-wise correlation are 0"
   ],
   "outputs": [
    {
     "output_type": "execute_result",
     "data": {
      "text/plain": [
       "0.0"
      ]
     },
     "metadata": {},
     "execution_count": 13
    }
   ],
   "metadata": {}
  },
  {
   "cell_type": "markdown",
   "source": [
    "Sun et al. 2010 construction, the resulting design will be $r2^{c+1}$ by $2^c$ if type='even'. If type='odd'\r\n",
    "the resulting design will be $r2^{c+1} + 1$ by $2^c$, where $r$ and $c$ are positive integers."
   ],
   "metadata": {}
  },
  {
   "cell_type": "code",
   "execution_count": 14,
   "source": [
    "Sun10_odd = pl.OLHD_Sun10(C=2,r=2,type='odd')\r\n",
    "Sun10_odd"
   ],
   "outputs": [
    {
     "output_type": "execute_result",
     "data": {
      "text/plain": [
       "array([[ 1.,  2.,  3.,  4.],\n",
       "       [ 2., -1., -4.,  3.],\n",
       "       [ 3.,  4., -1., -2.],\n",
       "       [ 4., -3.,  2., -1.],\n",
       "       [ 5.,  6.,  7.,  8.],\n",
       "       [ 6., -5., -8.,  7.],\n",
       "       [ 7.,  8., -5., -6.],\n",
       "       [ 8., -7.,  6., -5.],\n",
       "       [ 0.,  0.,  0.,  0.],\n",
       "       [-1., -2., -3., -4.],\n",
       "       [-2.,  1.,  4., -3.],\n",
       "       [-3., -4.,  1.,  2.],\n",
       "       [-4.,  3., -2.,  1.],\n",
       "       [-5., -6., -7., -8.],\n",
       "       [-6.,  5.,  8., -7.],\n",
       "       [-7., -8.,  5.,  6.],\n",
       "       [-8.,  7., -6.,  5.]])"
      ]
     },
     "metadata": {},
     "execution_count": 14
    }
   ],
   "metadata": {}
  },
  {
   "cell_type": "code",
   "execution_count": 15,
   "source": [
    "Sun10_even = pl.OLHD_Sun10(C=2,r=2,type='even')\r\n",
    "Sun10_even"
   ],
   "outputs": [
    {
     "output_type": "execute_result",
     "data": {
      "text/plain": [
       "array([[ 0.5,  1.5,  2.5,  3.5],\n",
       "       [ 1.5, -0.5, -3.5,  2.5],\n",
       "       [ 2.5,  3.5, -0.5, -1.5],\n",
       "       [ 3.5, -2.5,  1.5, -0.5],\n",
       "       [ 4.5,  5.5,  6.5,  7.5],\n",
       "       [ 5.5, -4.5, -7.5,  6.5],\n",
       "       [ 6.5,  7.5, -4.5, -5.5],\n",
       "       [ 7.5, -6.5,  5.5, -4.5],\n",
       "       [-0.5, -1.5, -2.5, -3.5],\n",
       "       [-1.5,  0.5,  3.5, -2.5],\n",
       "       [-2.5, -3.5,  0.5,  1.5],\n",
       "       [-3.5,  2.5, -1.5,  0.5],\n",
       "       [-4.5, -5.5, -6.5, -7.5],\n",
       "       [-5.5,  4.5,  7.5, -6.5],\n",
       "       [-6.5, -7.5,  4.5,  5.5],\n",
       "       [-7.5,  6.5, -5.5,  4.5]])"
      ]
     },
     "metadata": {},
     "execution_count": 15
    }
   ],
   "metadata": {}
  },
  {
   "cell_type": "markdown",
   "source": [
    "Line et al. 2009 construction, the resulting design will be $n^2$ by $2fp$. This is obtained by using a\r\n",
    "$n$ by $p$ orthogonal LHD with a $n^2$ by $2f$ strength 2 and level $n$ orthogonal array.\r\n",
    "\r\n",
    "Start by generating an orthogonal LHD"
   ],
   "metadata": {}
  },
  {
   "cell_type": "code",
   "execution_count": 16,
   "source": [
    "OLHD_example = pl.OLHD_Cioppa07(m=2)"
   ],
   "outputs": [],
   "metadata": {}
  },
  {
   "cell_type": "markdown",
   "source": [
    "Next, create an orthogonal array with 25 rows, 6 columns, 5 levels, and strength 2 OA(25,6,5,2)"
   ],
   "metadata": {}
  },
  {
   "cell_type": "code",
   "execution_count": 17,
   "source": [
    "import numpy as np\r\n",
    "\r\n",
    "OA_example = np.array([[2,2,2,2,2,1],[2,1,5,4,3,5],\r\n",
    "                      [3,2,1,5,4,5],[1,5,4,3,2,5],\r\n",
    "                      [4,1,3,5,2,3],[1,2,3,4,5,2],\r\n",
    "                      [1,3,5,2,4,3],[1,1,1,1,1,1],\r\n",
    "                      [4,3,2,1,5,5],[5,5,5,5,5,1],\r\n",
    "                      [4,4,4,4,4,1],[3,1,4,2,5,4],\r\n",
    "                      [3,3,3,3,3,1],[3,5,2,4,1,3],\r\n",
    "                      [3,4,5,1,2,2],[5,4,3,2,1,5],\r\n",
    "                      [2,3,4,5,1,2],[2,5,3,1,4,4],\r\n",
    "                      [1,4,2,5,3,4],[4,2,5,3,1,4],\r\n",
    "                      [2,4,1,3,5,3],[5,3,1,4,2,4],\r\n",
    "                      [5,2,4,1,3,3],[5,1,2,3,4,2],\r\n",
    "                      [4,5,1,2,3,2] ])"
   ],
   "outputs": [],
   "metadata": {}
  },
  {
   "cell_type": "markdown",
   "source": [
    "Now using Lin at al. 2009 construction, we couple OLHD and OA to obtain"
   ],
   "metadata": {}
  },
  {
   "cell_type": "code",
   "execution_count": 18,
   "source": [
    "Lin09 = pl.OLHD_Lin09(OLHD=OLHD_example,OA=OA_example)\r\n",
    "Lin09"
   ],
   "outputs": [
    {
     "output_type": "execute_result",
     "data": {
      "text/plain": [
       "array([[ 12.,  -8.,  12.,  -8.,   7.,  -9.,   6.,  -4.,   6.,  -4.,  -9.,\n",
       "         -7.],\n",
       "       [  7.,  -9.,  -7.,   9., -10.,  -2.,  -9.,  -7.,   9.,   7.,  -5.,\n",
       "         -1.],\n",
       "       [ 10.,   2.,  -9.,  -7., -11.,   3.,   5.,   1.,  -7.,   9.,  -3.,\n",
       "        -11.],\n",
       "       [ -9.,  -7.,  -1.,   5.,  -8., -12.,  -7.,   9.,   2., -10.,  -4.,\n",
       "         -6.],\n",
       "       [  4.,   6., -10.,  -2.,   2., -10.,  -8., -12.,  -5.,  -1.,   1.,\n",
       "         -5.],\n",
       "       [ 11.,  -3.,  -5.,  -1.,   8.,  12.,   3.,  11.,  10.,   2.,   4.,\n",
       "          6.],\n",
       "       [  1.,  -5.,   8.,  12.,  -1.,   5.,  -2.,  10.,   4.,   6.,   2.,\n",
       "        -10.],\n",
       "       [  6.,  -4.,   6.,  -4.,   6.,  -4., -12.,   8., -12.,   8., -12.,\n",
       "          8.],\n",
       "       [ -1.,   5.,   7.,  -9., -12.,   8.,   2., -10.,  -9.,  -7.,  -6.,\n",
       "          4.],\n",
       "       [-12.,   8., -12.,   8.,   3.,  11.,  -6.,   4.,  -6.,   4., -11.,\n",
       "          3.],\n",
       "       [ -6.,   4.,  -6.,   4.,   4.,   6.,  12.,  -8.,  12.,  -8.,  -8.,\n",
       "        -12.],\n",
       "       [  5.,   1.,   9.,   7.,  -7.,   9., -10.,  -2.,   7.,  -9.,   9.,\n",
       "          7.],\n",
       "       [  0.,   0.,   0.,   0.,   5.,   1.,   0.,   0.,   0.,   0., -10.,\n",
       "         -2.],\n",
       "       [-10.,  -2.,  -3., -11.,   1.,  -5.,  -5.,  -1.,  11.,  -3.,  -2.,\n",
       "         10.],\n",
       "       [ -5.,  -1.,   3.,  11.,  12.,  -8.,  10.,   2., -11.,   3.,   6.,\n",
       "         -4.],\n",
       "       [ -7.,   9.,  10.,   2.,  -9.,  -7.,   9.,   7.,   5.,   1.,  -7.,\n",
       "          9.],\n",
       "       [  2., -10., -11.,   3.,  11.,  -3.,   1.,  -5.,  -3., -11.,   3.,\n",
       "         11.],\n",
       "       [ -8., -12.,   5.,   1.,  -6.,   4.,  -4.,  -6., -10.,  -2.,  12.,\n",
       "         -8.],\n",
       "       [ -4.,  -6.,  -8., -12.,  -5.,  -1.,   8.,  12.,  -4.,  -6.,  10.,\n",
       "          2.],\n",
       "       [  9.,   7.,  -2.,  10.,  -4.,  -6.,   7.,  -9.,  -1.,   5.,   8.,\n",
       "         12.],\n",
       "       [ -3., -11.,   1.,  -5.,  -2.,  10.,  11.,  -3.,  -2.,  10.,  -1.,\n",
       "          5.],\n",
       "       [ -2.,  10.,  -4.,  -6.,  -3., -11.,  -1.,   5.,   8.,  12.,  11.,\n",
       "         -3.],\n",
       "       [  8.,  12.,   4.,   6.,   0.,   0.,   4.,   6.,  -8., -12.,   0.,\n",
       "          0.],\n",
       "       [  3.,  11.,   2., -10.,   9.,   7., -11.,   3.,   1.,  -5.,   7.,\n",
       "         -9.],\n",
       "       [-11.,   3.,  11.,  -3.,  10.,   2.,  -3., -11.,   3.,  11.,   5.,\n",
       "          1.]])"
      ]
     },
     "metadata": {},
     "execution_count": 18
    }
   ],
   "metadata": {}
  },
  {
   "cell_type": "markdown",
   "source": [
    "We can convert an orthogonal array into a LHD using the function OA2LHD. Consider the \r\n",
    "earlier OA_example with 25 rows and 6 columns."
   ],
   "metadata": {}
  },
  {
   "cell_type": "code",
   "execution_count": 19,
   "source": [
    "pl.OA2LHD(OA_example)"
   ],
   "outputs": [
    {
     "output_type": "execute_result",
     "data": {
      "text/plain": [
       "array([[ 9,  7,  6,  9,  8,  5],\n",
       "       [ 6,  3, 23, 18, 12, 21],\n",
       "       [14,  9,  3, 23, 18, 25],\n",
       "       [ 4, 23, 19, 11, 10, 22],\n",
       "       [16,  2, 15, 24,  9, 13],\n",
       "       [ 1,  6, 14, 20, 22,  7],\n",
       "       [ 3, 14, 21,  6, 16, 15],\n",
       "       [ 5,  1,  5,  3,  2,  3],\n",
       "       [20, 13,  9,  1, 25, 23],\n",
       "       [23, 24, 22, 25, 23,  1],\n",
       "       [19, 18, 20, 17, 20,  2],\n",
       "       [12,  4, 18, 10, 24, 20],\n",
       "       [11, 15, 11, 13, 15,  4],\n",
       "       [13, 21,  8, 19,  5, 14],\n",
       "       [15, 19, 24,  2,  7,  8],\n",
       "       [25, 17, 12,  7,  4, 24],\n",
       "       [10, 11, 17, 21,  1, 10],\n",
       "       [ 8, 22, 13,  4, 17, 17],\n",
       "       [ 2, 20, 10, 22, 14, 19],\n",
       "       [17,  8, 25, 15,  3, 18],\n",
       "       [ 7, 16,  1, 14, 21, 11],\n",
       "       [22, 12,  2, 16,  6, 16],\n",
       "       [24, 10, 16,  5, 13, 12],\n",
       "       [21,  5,  7, 12, 19,  9],\n",
       "       [18, 25,  4,  8, 11,  6]])"
      ]
     },
     "metadata": {},
     "execution_count": 19
    }
   ],
   "metadata": {}
  },
  {
   "cell_type": "markdown",
   "source": [
    "Lastly, we consider Butler 2001 construction by generating a $n$ by $k$ OLHD"
   ],
   "metadata": {}
  },
  {
   "cell_type": "code",
   "execution_count": 20,
   "source": [
    "Butler01 = pl.OLHD_Butler01(nrows=11,ncols=5)\r\n",
    "Butler01"
   ],
   "outputs": [
    {
     "output_type": "execute_result",
     "data": {
      "text/plain": [
       "array([[ 1.,  5.,  4.,  2.,  3.],\n",
       "       [ 7.,  8.,  2.,  3., 11.],\n",
       "       [10.,  3.,  1.,  7.,  4.],\n",
       "       [ 4., 10.,  3., 11.,  5.],\n",
       "       [ 3.,  1.,  5.,  8., 10.],\n",
       "       [ 9., 11.,  7.,  4.,  2.],\n",
       "       [ 8.,  2.,  9.,  1.,  7.],\n",
       "       [ 2.,  9., 11.,  5.,  8.],\n",
       "       [ 5.,  4., 10.,  9.,  1.],\n",
       "       [11.,  7.,  8., 10.,  9.],\n",
       "       [ 6.,  6.,  6.,  6.,  6.]])"
      ]
     },
     "metadata": {},
     "execution_count": 20
    }
   ],
   "metadata": {}
  }
 ],
 "metadata": {
  "orig_nbformat": 4,
  "language_info": {
   "name": "python",
   "version": "3.7.9",
   "mimetype": "text/x-python",
   "codemirror_mode": {
    "name": "ipython",
    "version": 3
   },
   "pygments_lexer": "ipython3",
   "nbconvert_exporter": "python",
   "file_extension": ".py"
  },
  "kernelspec": {
   "name": "python3",
   "display_name": "Python 3.7.9 64-bit"
  },
  "interpreter": {
   "hash": "d4f5a1a9462dc2922971d64a62bc68bb9f0ce7aefa312bd7ab3ac31e2ffadc7c"
  }
 },
 "nbformat": 4,
 "nbformat_minor": 2
}