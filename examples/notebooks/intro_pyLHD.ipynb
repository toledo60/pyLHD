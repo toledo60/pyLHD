{
 "cells": [
  {
   "cell_type": "markdown",
   "source": [
    "## Introduction to pyLHD\r\n",
    "\r\n",
    "pyLHD is a python implementation of the R package [LHD](https://cran.r-project.org/web/packages/LHD/index.html) by Hongzhi Wang, Qian Xiao, Abhyuday Mandal. As of now, only the algebraic construction of Latin hypercube designs (LHD) are implemented in this package. For search algorithms to construct LHDs such as: Simulated annealing, particle swarm optimization, and genetic algorithms refer to the R package.\r\n",
    "\r\n",
    "Below are the construction methods for the LHDs considered"
   ],
   "metadata": {}
  },
  {
   "cell_type": "markdown",
   "source": [
    "|            | Ye98 | Cioppa07 | Sun10 | Tang93 | Lin09 | Butler01  |\r\n",
    "|------------|---|---|---|---|---|----|\r\n",
    "| Run # $n$    | $2^m +1$ | $2^m +1$ | $r2^{m +1}$ or $r2^{m +1} +1$  | $n$ | $n^2$ | $n$ |\r\n",
    "| Factor # $k$ | $2m-2$ | $m + {m-1 \\choose 2}$ | $2^c$ | $m$ | $2fp$ | $k \\leq n-1$  |\r\n",
    "| Note       | $m$ is a positive integer $m\\geq 2$ | $m$ is a positive integer $m\\geq 2$ | $r$ and $c$ are positive integers | $n$ and $m$ are from $OA(n,m,s,r)$ | $n^2,2f$ and $p$ are from $OA(n^2,2f,n,2)$ and $OLHD(n,p)$ | $n$ is an odd prime number  |"
   ],
   "metadata": {}
  },
  {
   "cell_type": "markdown",
   "source": [
    "For theoretical details on the construction methods a good overview is **Section 4.2: Algebraic Constuctions for Orthogonal LHDs** from [Musings about Constructions of Efficient Latin Hypercube Designs with Flexible Run-sizes](https://arxiv.org/abs/2010.09154)\r\n",
    "\r\n",
    "To evalute the generated LHDs we consider the following criteria\r\n",
    "\r\n",
    "### Maximin distance Criterion\r\n",
    "\r\n",
    "Let $X$ denote an LHD matrix. Define the $L_q$-distance between two run $x_i$ and $x_j$ of $X$ as $d_q(x_i,x_j) = \\left( \\sum_{k=1}^m |x_{ik}-x_{jk}|^q \\right)^{1/q}$ where $q$ is an integer. Define the $L_q$-distance of design $X$ as $d_q(X) = \\min \\{ d_q(x_i,x_j), 1 \\leq i\\leq j \\leq n \\}$. If $q=1$, we are considering the Manhattan $(L_1)$ distance. If $q=2$, the Euclidean $(L_2)$ distance is considered. A design $X$ is called a maximim $L_q$-distance if it has the unique largest $d_q(X)$ value.\r\n",
    "\r\n",
    "Morris and Mitch (1995) and Jin et al. (2005) proposed the $\\phi_p$ criterion which is defined as\r\n",
    "$$\r\n",
    "\\phi_p = \\left( \\sum_{i=1}^{n-1} \\sum_{j=i+1}^n d_q (x_i,x_j)^{-p}  \\right)^{1/p} \r\n",
    "$$\r\n",
    "\r\n",
    "The $\\phi_p$ criterion is asymptotically equivalent to the Maximin distance criterion as $p \\rightarrow \\infty$. In practice $p=15$ often suffices.\r\n",
    "\r\n",
    "### Maximum Projection Criterion\r\n",
    "\r\n",
    "Joseph et al (2015) proposed the maximum projection LHDs that consider designs' space-filling properties in all possible dimensional spaces. Such designs minimize the maximum projection criterion, which is defined as \r\n",
    "\r\n",
    "$$\r\n",
    "\\underset{X}{\\min} \\psi(X) = \\left( \\frac{1}{{n \\choose 2}} \\sum_{i=1}^{n-1} \\sum_{j=i+1}^n \\frac{1}{ \\prod_{l=1}^k (x_{il}-x_{jl})^2} \\right)^{1/k}\r\n",
    "$$\r\n",
    "\r\n",
    "\r\n",
    "We can wee that any two design points should be apart from each other in any projection to minimize the value of $\\psi(x)$\r\n",
    "\r\n",
    "### Orthogonality Criteria\r\n",
    "\r\n",
    "Two major correlation-based criteria to measure designs' orthogonality is the average absolute correlation criterion and the maximum absolute correlation\r\n",
    "\r\n",
    "$$\r\n",
    "ave(|q|) = \\frac{2 \\sum_{i=1}^{k-1} \\sum_{j=i+1}^k |q_{ij}|}{k(k-1)} \\quad \\text{and} \\quad \\max |q| = \\underset{i,j}{\\max} |q_{ij}|\r\n",
    "$$\r\n",
    "\r\n",
    "where $q_{ij}$ is the correlation between the $i$th and $j$th columns of the design matrix $X$. Orthogonal design have $ave(|q|)=0$ and $\\max|q|=0$, which may not exist for all design sizes. Designs with smaller $ave(|q|)$ or  $\\max|q|$ are generally preferred in practice.\r\n",
    "\r\n"
   ],
   "metadata": {}
  },
  {
   "cell_type": "code",
   "execution_count": 6,
   "source": [
    "import pyLHD"
   ],
   "outputs": [],
   "metadata": {}
  },
  {
   "cell_type": "markdown",
   "source": [
    "Lets start by generating a random LHD with 5 rows and 3 columns"
   ],
   "metadata": {}
  },
  {
   "cell_type": "code",
   "execution_count": 7,
   "source": [
    "X = pyLHD.rLHD(nrows=5,ncols=3)\r\n",
    "X"
   ],
   "outputs": [
    {
     "output_type": "execute_result",
     "data": {
      "text/plain": [
       "array([[2, 4, 3],\n",
       "       [5, 2, 1],\n",
       "       [1, 1, 2],\n",
       "       [4, 3, 5],\n",
       "       [3, 5, 4]])"
      ]
     },
     "metadata": {},
     "execution_count": 7
    }
   ],
   "metadata": {}
  },
  {
   "cell_type": "markdown",
   "source": [
    "We evaluate the above design with the different optimamlity criteria described earlier:\r\n",
    "\r\n",
    "The maximin distance criterion (Manhattan)"
   ],
   "metadata": {}
  },
  {
   "cell_type": "code",
   "execution_count": 8,
   "source": [
    "pyLHD.phi_p(X,p=15,q=1)"
   ],
   "outputs": [
    {
     "output_type": "execute_result",
     "data": {
      "text/plain": [
       "0.3336505253689972"
      ]
     },
     "metadata": {},
     "execution_count": 8
    }
   ],
   "metadata": {}
  },
  {
   "cell_type": "markdown",
   "source": [
    "The maximin distance criterion (Euclidean)"
   ],
   "metadata": {}
  },
  {
   "cell_type": "code",
   "execution_count": 13,
   "source": [
    "pyLHD.phi_p(X,p=10,q=2) # different p used than above"
   ],
   "outputs": [
    {
     "output_type": "execute_result",
     "data": {
      "text/plain": [
       "0.5794755775077682"
      ]
     },
     "metadata": {},
     "execution_count": 13
    }
   ],
   "metadata": {}
  },
  {
   "cell_type": "markdown",
   "source": [
    "The average absolute correlation"
   ],
   "metadata": {}
  },
  {
   "cell_type": "code",
   "execution_count": 9,
   "source": [
    "pyLHD.AvgAbsCor(X)"
   ],
   "outputs": [
    {
     "output_type": "execute_result",
     "data": {
      "text/plain": [
       "0.233"
      ]
     },
     "metadata": {},
     "execution_count": 9
    }
   ],
   "metadata": {}
  },
  {
   "cell_type": "markdown",
   "source": [
    "The maximum absolute correlation"
   ],
   "metadata": {}
  },
  {
   "cell_type": "code",
   "execution_count": 11,
   "source": [
    "pyLHD.MaxAbsCor(X)"
   ],
   "outputs": [
    {
     "output_type": "execute_result",
     "data": {
      "text/plain": [
       "0.6"
      ]
     },
     "metadata": {},
     "execution_count": 11
    }
   ],
   "metadata": {}
  },
  {
   "cell_type": "markdown",
   "source": [
    "The maximum projection criterion"
   ],
   "metadata": {}
  },
  {
   "cell_type": "code",
   "execution_count": 12,
   "source": [
    "pyLHD.MaxProCriterion(X)"
   ],
   "outputs": [
    {
     "output_type": "execute_result",
     "data": {
      "text/plain": [
       "0.5389686126111215"
      ]
     },
     "metadata": {},
     "execution_count": 12
    }
   ],
   "metadata": {}
  }
 ],
 "metadata": {
  "orig_nbformat": 4,
  "language_info": {
   "name": "python",
   "version": "3.9.6",
   "mimetype": "text/x-python",
   "codemirror_mode": {
    "name": "ipython",
    "version": 3
   },
   "pygments_lexer": "ipython3",
   "nbconvert_exporter": "python",
   "file_extension": ".py"
  },
  "kernelspec": {
   "name": "python3",
   "display_name": "Python 3.9.6 64-bit"
  },
  "interpreter": {
   "hash": "149bfb959b47c4e723ed9fa863132f6065d05e898bc2213b141589a65e9ed5f9"
  }
 },
 "nbformat": 4,
 "nbformat_minor": 2
}